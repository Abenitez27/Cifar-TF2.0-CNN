{
  "nbformat": 4,
  "nbformat_minor": 0,
  "metadata": {
    "colab": {
      "name": "TF2.0 CIFAR Improved.ipynb",
      "provenance": [],
      "collapsed_sections": []
    },
    "kernelspec": {
      "name": "python3",
      "display_name": "Python 3"
    },
    "accelerator": "GPU"
  },
  "cells": [
    {
      "cell_type": "code",
      "metadata": {
        "id": "7AOufVwVPdt7",
        "colab": {
          "base_uri": "https://localhost:8080/"
        },
        "outputId": "67865bfe-166a-4df8-c07e-a57a2e6dae0d"
      },
      "source": [
        "import tensorflow as tf\n",
        "print(tf.__version__)"
      ],
      "execution_count": 1,
      "outputs": [
        {
          "output_type": "stream",
          "text": [
            "2.4.0\n"
          ],
          "name": "stdout"
        }
      ]
    },
    {
      "cell_type": "code",
      "metadata": {
        "id": "Q7w0kRfYQ7zW"
      },
      "source": [
        "import numpy as np\n",
        "import pandas as pd\n",
        "import matplotlib.pyplot as plt\n",
        "from tensorflow.keras.layers import Input, Dense, Flatten, Conv2D, Dropout, GlobalMaxPooling2D, MaxPooling2D, BatchNormalization\n",
        "from tensorflow.keras.models import Model"
      ],
      "execution_count": 2,
      "outputs": []
    },
    {
      "cell_type": "code",
      "metadata": {
        "id": "NpFEvuNtTz66",
        "colab": {
          "base_uri": "https://localhost:8080/"
        },
        "outputId": "08b7952f-61b6-43ff-841f-b54778e2d026"
      },
      "source": [
        "# Load in the Data:\n",
        "\n",
        "cifar10 = tf.keras.datasets.cifar10\n",
        "\n",
        "(x_train, y_train), (x_test, y_test) = cifar10.load_data()\n",
        "x_train, x_test = x_train / 255.0, x_test / 255.0\n",
        "y_train, y_test = y_train.flatten(), y_test.flatten()\n",
        "print(\"x_train.shape:\", x_train.shape)\n",
        "print(\"y_train.shape:\", y_train.shape)"
      ],
      "execution_count": 3,
      "outputs": [
        {
          "output_type": "stream",
          "text": [
            "Downloading data from https://www.cs.toronto.edu/~kriz/cifar-10-python.tar.gz\n",
            "170500096/170498071 [==============================] - 4s 0us/step\n",
            "x_train.shape: (50000, 32, 32, 3)\n",
            "y_train.shape: (50000,)\n"
          ],
          "name": "stdout"
        }
      ]
    },
    {
      "cell_type": "code",
      "metadata": {
        "id": "R6S3eZp_Uecd",
        "colab": {
          "base_uri": "https://localhost:8080/"
        },
        "outputId": "bb747e87-b50f-436a-d75b-2ea952afe4eb"
      },
      "source": [
        "# Number of classes \n",
        "K = len(set(y_train))\n",
        "print(\"number of classes:\", K)"
      ],
      "execution_count": 4,
      "outputs": [
        {
          "output_type": "stream",
          "text": [
            "number of classes: 10\n"
          ],
          "name": "stdout"
        }
      ]
    },
    {
      "cell_type": "code",
      "metadata": {
        "id": "JJQPiV6PTG94"
      },
      "source": [
        ""
      ],
      "execution_count": 4,
      "outputs": []
    },
    {
      "cell_type": "code",
      "metadata": {
        "id": "rdgG_sWJVHNf",
        "colab": {
          "base_uri": "https://localhost:8080/"
        },
        "outputId": "b333355f-a82a-4405-c99f-a0149062d3a6"
      },
      "source": [
        "# Build the model:\n",
        "i = Input(shape=x_train[0].shape)\n",
        "print(\"Input Shape:\", i)\n",
        "#x = Conv2D(32, (3,3), strides=2, activation='relu')(i)\n",
        "#x = Conv2D(64, (3,3), strides=2, activation='relu')(x)\n",
        "#x = Conv2D(128, (3,3), strides=2, activation='relu')(x) \n",
        "\n",
        "x = Conv2D(32, (3,3), padding = 'same', activation='relu')(i)\n",
        "print(\"First Convolution Layer output shape: \", x.shape)\n",
        "x = BatchNormalization()(x)\n",
        "\n",
        "x = Conv2D(64, (3,3), padding = 'same', activation='relu')(x)\n",
        "print(\"Second Convolution Layer output shape: \", x.shape)\n",
        "x = BatchNormalization()(x)\n",
        "x = MaxPooling2D((2,2))(x)\n",
        "print(\"First Max Pooling layer Output:\", x.shape)\n",
        "##### x = Dropout(0.2)(x)\n",
        "\n",
        "x = Conv2D(128, (3,3), padding = 'same', activation='relu')(x)\n",
        "x = BatchNormalization()(x)\n",
        "print(\"Third Convolution Layer output shape: \", x.shape)\n",
        "\n",
        "x = Conv2D(128, (3,3), padding = 'same', activation='relu')(x)\n",
        "x = BatchNormalization()(x)\n",
        "print(\"Fourth Convolution Layer output shape: \", x.shape)\n",
        "x = MaxPooling2D((2,2))(x)\n",
        "print(\"Second Max Pooling layer Output:\", x.shape)\n",
        "##### x = Dropout(0.2)(x)\n",
        "\n",
        "x = Conv2D(128, (3,3), padding = 'same', activation='relu')(x)\n",
        "x = BatchNormalization()(x)\n",
        "print(\"Fifth Convolution Layer output shape: \", x.shape)\n",
        "\n",
        "\n",
        "x = Conv2D(128, (3,3), padding = 'same', activation='relu')(x)\n",
        "x = BatchNormalization()(x)\n",
        "print(\"Sixth Convolution Layer output shape: \", x.shape)\n",
        "\n",
        "x = MaxPooling2D((2,2))(x)\n",
        "##### x = Dropout(0.2)(x)\n",
        "print(\"Third Max Pooling layer Output:\", x.shape)\n",
        "\n",
        "##### x = GlobalMaxPooling2D()(x)\n",
        "x = Flatten()(x)\n",
        "print(\"Flatten layer Output:\", x.shape)\n",
        "x = Dropout(0.2)(x)\n",
        "x = Dense(1024, activation='relu')(x)\n",
        "print(\"First Dense layer Output:\", x.shape)\n",
        "x = Dropout(0.2)(x)\n",
        "x = Dense(K, activation='softmax')(x)\n",
        "print(\"Second Dense layer Output:\", x.shape)\n",
        "\n",
        "model = Model(i, x)\n"
      ],
      "execution_count": 5,
      "outputs": [
        {
          "output_type": "stream",
          "text": [
            "Input Shape: KerasTensor(type_spec=TensorSpec(shape=(None, 32, 32, 3), dtype=tf.float32, name='input_1'), name='input_1', description=\"created by layer 'input_1'\")\n",
            "First Convolution Layer output shape:  (None, 32, 32, 32)\n",
            "Second Convolution Layer output shape:  (None, 32, 32, 64)\n",
            "First Max Pooling layer Output: (None, 16, 16, 64)\n",
            "Third Convolution Layer output shape:  (None, 16, 16, 128)\n",
            "Fourth Convolution Layer output shape:  (None, 16, 16, 128)\n",
            "Second Max Pooling layer Output: (None, 8, 8, 128)\n",
            "Fifth Convolution Layer output shape:  (None, 8, 8, 128)\n",
            "Sixth Convolution Layer output shape:  (None, 8, 8, 128)\n",
            "Third Max Pooling layer Output: (None, 4, 4, 128)\n",
            "Flatten layer Output: (None, 2048)\n",
            "First Dense layer Output: (None, 1024)\n",
            "Second Dense layer Output: (None, 10)\n"
          ],
          "name": "stdout"
        }
      ]
    },
    {
      "cell_type": "code",
      "metadata": {
        "id": "JJSvAfAqWUue",
        "colab": {
          "base_uri": "https://localhost:8080/"
        },
        "outputId": "58f28019-3cc0-4a97-fd58-cc4fea177241"
      },
      "source": [
        "# Compile and fit\n",
        "# Note: make sure your using GPU!\n",
        "\n",
        "model.compile(optimizer='adam',\n",
        "              loss='sparse_categorical_crossentropy',\n",
        "              metrics=['accuracy'])\n",
        "r = model.fit(x_train, y_train, validation_data=(x_test, y_test), epochs=50)"
      ],
      "execution_count": 6,
      "outputs": [
        {
          "output_type": "stream",
          "text": [
            "Epoch 1/50\n",
            "1563/1563 [==============================] - 20s 8ms/step - loss: 1.6993 - accuracy: 0.4603 - val_loss: 1.0285 - val_accuracy: 0.6405\n",
            "Epoch 2/50\n",
            "1563/1563 [==============================] - 12s 8ms/step - loss: 0.8563 - accuracy: 0.7019 - val_loss: 0.8519 - val_accuracy: 0.7117\n",
            "Epoch 3/50\n",
            "1563/1563 [==============================] - 12s 8ms/step - loss: 0.6728 - accuracy: 0.7687 - val_loss: 0.9194 - val_accuracy: 0.7072\n",
            "Epoch 4/50\n",
            "1563/1563 [==============================] - 12s 8ms/step - loss: 0.5535 - accuracy: 0.8084 - val_loss: 0.8076 - val_accuracy: 0.7355\n",
            "Epoch 5/50\n",
            "1563/1563 [==============================] - 12s 8ms/step - loss: 0.4438 - accuracy: 0.8489 - val_loss: 0.5808 - val_accuracy: 0.8048\n",
            "Epoch 6/50\n",
            "1563/1563 [==============================] - 12s 8ms/step - loss: 0.3734 - accuracy: 0.8720 - val_loss: 0.6317 - val_accuracy: 0.8106\n",
            "Epoch 7/50\n",
            "1563/1563 [==============================] - 12s 8ms/step - loss: 0.3068 - accuracy: 0.8940 - val_loss: 0.6222 - val_accuracy: 0.8091\n",
            "Epoch 8/50\n",
            "1563/1563 [==============================] - 12s 8ms/step - loss: 0.2456 - accuracy: 0.9122 - val_loss: 0.5516 - val_accuracy: 0.8348\n",
            "Epoch 9/50\n",
            "1563/1563 [==============================] - 12s 8ms/step - loss: 0.2051 - accuracy: 0.9295 - val_loss: 0.6725 - val_accuracy: 0.8042\n",
            "Epoch 10/50\n",
            "1563/1563 [==============================] - 12s 8ms/step - loss: 0.1753 - accuracy: 0.9396 - val_loss: 0.7025 - val_accuracy: 0.8228\n",
            "Epoch 11/50\n",
            "1563/1563 [==============================] - 12s 8ms/step - loss: 0.1547 - accuracy: 0.9488 - val_loss: 0.6998 - val_accuracy: 0.8283\n",
            "Epoch 12/50\n",
            "1563/1563 [==============================] - 12s 8ms/step - loss: 0.1426 - accuracy: 0.9512 - val_loss: 0.6542 - val_accuracy: 0.8329\n",
            "Epoch 13/50\n",
            "1563/1563 [==============================] - 12s 8ms/step - loss: 0.1364 - accuracy: 0.9548 - val_loss: 0.7278 - val_accuracy: 0.8225\n",
            "Epoch 14/50\n",
            "1563/1563 [==============================] - 12s 8ms/step - loss: 0.1195 - accuracy: 0.9595 - val_loss: 0.6125 - val_accuracy: 0.8448\n",
            "Epoch 15/50\n",
            "1563/1563 [==============================] - 12s 8ms/step - loss: 0.1058 - accuracy: 0.9646 - val_loss: 0.6930 - val_accuracy: 0.8328\n",
            "Epoch 16/50\n",
            "1563/1563 [==============================] - 12s 8ms/step - loss: 0.1039 - accuracy: 0.9647 - val_loss: 0.7344 - val_accuracy: 0.8324\n",
            "Epoch 17/50\n",
            "1563/1563 [==============================] - 12s 8ms/step - loss: 0.0936 - accuracy: 0.9683 - val_loss: 0.7029 - val_accuracy: 0.8476\n",
            "Epoch 18/50\n",
            "1563/1563 [==============================] - 12s 8ms/step - loss: 0.0917 - accuracy: 0.9692 - val_loss: 0.7451 - val_accuracy: 0.8415\n",
            "Epoch 19/50\n",
            "1563/1563 [==============================] - 12s 8ms/step - loss: 0.0834 - accuracy: 0.9717 - val_loss: 0.7270 - val_accuracy: 0.8453\n",
            "Epoch 20/50\n",
            "1563/1563 [==============================] - 12s 8ms/step - loss: 0.0793 - accuracy: 0.9746 - val_loss: 0.6903 - val_accuracy: 0.8411\n",
            "Epoch 21/50\n",
            "1563/1563 [==============================] - 12s 8ms/step - loss: 0.0721 - accuracy: 0.9761 - val_loss: 0.6848 - val_accuracy: 0.8471\n",
            "Epoch 22/50\n",
            "1563/1563 [==============================] - 12s 8ms/step - loss: 0.0652 - accuracy: 0.9788 - val_loss: 0.7354 - val_accuracy: 0.8438\n",
            "Epoch 23/50\n",
            "1563/1563 [==============================] - 12s 8ms/step - loss: 0.0695 - accuracy: 0.9772 - val_loss: 0.6288 - val_accuracy: 0.8526\n",
            "Epoch 24/50\n",
            "1563/1563 [==============================] - 12s 8ms/step - loss: 0.0630 - accuracy: 0.9787 - val_loss: 0.6422 - val_accuracy: 0.8471\n",
            "Epoch 25/50\n",
            "1563/1563 [==============================] - 12s 8ms/step - loss: 0.0588 - accuracy: 0.9816 - val_loss: 0.7584 - val_accuracy: 0.8518\n",
            "Epoch 26/50\n",
            "1563/1563 [==============================] - 12s 8ms/step - loss: 0.0610 - accuracy: 0.9796 - val_loss: 0.7542 - val_accuracy: 0.8509\n",
            "Epoch 27/50\n",
            "1563/1563 [==============================] - 12s 8ms/step - loss: 0.0577 - accuracy: 0.9823 - val_loss: 0.7405 - val_accuracy: 0.8511\n",
            "Epoch 28/50\n",
            "1563/1563 [==============================] - 12s 8ms/step - loss: 0.0539 - accuracy: 0.9817 - val_loss: 0.7825 - val_accuracy: 0.8477\n",
            "Epoch 29/50\n",
            "1563/1563 [==============================] - 12s 8ms/step - loss: 0.0548 - accuracy: 0.9818 - val_loss: 0.8567 - val_accuracy: 0.8269\n",
            "Epoch 30/50\n",
            "1563/1563 [==============================] - 12s 8ms/step - loss: 0.0542 - accuracy: 0.9824 - val_loss: 0.8336 - val_accuracy: 0.8424\n",
            "Epoch 31/50\n",
            "1563/1563 [==============================] - 12s 8ms/step - loss: 0.0509 - accuracy: 0.9829 - val_loss: 0.7987 - val_accuracy: 0.8495\n",
            "Epoch 32/50\n",
            "1563/1563 [==============================] - 12s 8ms/step - loss: 0.0490 - accuracy: 0.9852 - val_loss: 0.7551 - val_accuracy: 0.8514\n",
            "Epoch 33/50\n",
            "1563/1563 [==============================] - 12s 8ms/step - loss: 0.0441 - accuracy: 0.9851 - val_loss: 0.8721 - val_accuracy: 0.8454\n",
            "Epoch 34/50\n",
            "1563/1563 [==============================] - 12s 8ms/step - loss: 0.0485 - accuracy: 0.9842 - val_loss: 0.8728 - val_accuracy: 0.8481\n",
            "Epoch 35/50\n",
            "1563/1563 [==============================] - 13s 8ms/step - loss: 0.0452 - accuracy: 0.9846 - val_loss: 1.0630 - val_accuracy: 0.8229\n",
            "Epoch 36/50\n",
            "1563/1563 [==============================] - 13s 8ms/step - loss: 0.0467 - accuracy: 0.9850 - val_loss: 0.8063 - val_accuracy: 0.8529\n",
            "Epoch 37/50\n",
            "1563/1563 [==============================] - 13s 8ms/step - loss: 0.0425 - accuracy: 0.9857 - val_loss: 0.9330 - val_accuracy: 0.8485\n",
            "Epoch 38/50\n",
            "1563/1563 [==============================] - 12s 8ms/step - loss: 0.0432 - accuracy: 0.9864 - val_loss: 0.7792 - val_accuracy: 0.8545\n",
            "Epoch 39/50\n",
            "1563/1563 [==============================] - 12s 8ms/step - loss: 0.0366 - accuracy: 0.9884 - val_loss: 0.7730 - val_accuracy: 0.8512\n",
            "Epoch 40/50\n",
            "1563/1563 [==============================] - 12s 8ms/step - loss: 0.0420 - accuracy: 0.9858 - val_loss: 0.7858 - val_accuracy: 0.8544\n",
            "Epoch 41/50\n",
            "1563/1563 [==============================] - 12s 8ms/step - loss: 0.0347 - accuracy: 0.9887 - val_loss: 0.8077 - val_accuracy: 0.8390\n",
            "Epoch 42/50\n",
            "1563/1563 [==============================] - 12s 8ms/step - loss: 0.0374 - accuracy: 0.9879 - val_loss: 0.9391 - val_accuracy: 0.8489\n",
            "Epoch 43/50\n",
            "1563/1563 [==============================] - 12s 8ms/step - loss: 0.0387 - accuracy: 0.9878 - val_loss: 0.7887 - val_accuracy: 0.8510\n",
            "Epoch 44/50\n",
            "1563/1563 [==============================] - 13s 8ms/step - loss: 0.0394 - accuracy: 0.9872 - val_loss: 0.9271 - val_accuracy: 0.8498\n",
            "Epoch 45/50\n",
            "1563/1563 [==============================] - 13s 8ms/step - loss: 0.0354 - accuracy: 0.9884 - val_loss: 0.8956 - val_accuracy: 0.8547\n",
            "Epoch 46/50\n",
            "1563/1563 [==============================] - 13s 8ms/step - loss: 0.0359 - accuracy: 0.9882 - val_loss: 0.8035 - val_accuracy: 0.8515\n",
            "Epoch 47/50\n",
            "1563/1563 [==============================] - 13s 8ms/step - loss: 0.0395 - accuracy: 0.9869 - val_loss: 0.8240 - val_accuracy: 0.8551\n",
            "Epoch 48/50\n",
            "1563/1563 [==============================] - 13s 8ms/step - loss: 0.0321 - accuracy: 0.9894 - val_loss: 0.8116 - val_accuracy: 0.8537\n",
            "Epoch 49/50\n",
            "1563/1563 [==============================] - 13s 8ms/step - loss: 0.0345 - accuracy: 0.9895 - val_loss: 0.7841 - val_accuracy: 0.8572\n",
            "Epoch 50/50\n",
            "1563/1563 [==============================] - 13s 8ms/step - loss: 0.0352 - accuracy: 0.9888 - val_loss: 0.8811 - val_accuracy: 0.8425\n"
          ],
          "name": "stdout"
        }
      ]
    },
    {
      "cell_type": "code",
      "metadata": {
        "id": "KF2lPeAgl_ku",
        "colab": {
          "base_uri": "https://localhost:8080/"
        },
        "outputId": "17be1c7c-a911-48c2-9215-a59c8f4010ae"
      },
      "source": [
        "# Fit with data augmentation\n",
        "# Note: if you run this AFTER calling the previous model.fit(), it will Continue where it left off\n",
        "\n",
        "\n",
        "batch_size = 32\n",
        "data_generator = tf.keras.preprocessing.image.ImageDataGenerator(width_shift_range=0.1,\n",
        "                                                                 height_shift_range=0.1,\n",
        "                                                                 horizontal_flip=True)\n",
        "train_generator = data_generator.flow(x_train, y_train, batch_size)\n",
        "steps_per_epoch = x_train.shape[0] // batch_size\n",
        "r = model.fit_generator(train_generator,\n",
        "                        validation_data = (x_test, y_test),\n",
        "                        steps_per_epoch = steps_per_epoch,\n",
        "                        epochs=50)"
      ],
      "execution_count": 7,
      "outputs": [
        {
          "output_type": "stream",
          "text": [
            "/usr/local/lib/python3.6/dist-packages/tensorflow/python/keras/engine/training.py:1844: UserWarning: `Model.fit_generator` is deprecated and will be removed in a future version. Please use `Model.fit`, which supports generators.\n",
            "  warnings.warn('`Model.fit_generator` is deprecated and '\n"
          ],
          "name": "stderr"
        },
        {
          "output_type": "stream",
          "text": [
            "Epoch 1/50\n",
            "1562/1562 [==============================] - 28s 18ms/step - loss: 0.4912 - accuracy: 0.8455 - val_loss: 0.4605 - val_accuracy: 0.8549\n",
            "Epoch 2/50\n",
            "1562/1562 [==============================] - 28s 18ms/step - loss: 0.3842 - accuracy: 0.8744 - val_loss: 0.4518 - val_accuracy: 0.8584\n",
            "Epoch 3/50\n",
            "1562/1562 [==============================] - 27s 18ms/step - loss: 0.3495 - accuracy: 0.8840 - val_loss: 0.4318 - val_accuracy: 0.8631\n",
            "Epoch 4/50\n",
            "1562/1562 [==============================] - 27s 17ms/step - loss: 0.3269 - accuracy: 0.8922 - val_loss: 0.3898 - val_accuracy: 0.8723\n",
            "Epoch 5/50\n",
            "1562/1562 [==============================] - 28s 18ms/step - loss: 0.3081 - accuracy: 0.8972 - val_loss: 0.3893 - val_accuracy: 0.8699\n",
            "Epoch 6/50\n",
            "1562/1562 [==============================] - 27s 17ms/step - loss: 0.2971 - accuracy: 0.9022 - val_loss: 0.4000 - val_accuracy: 0.8751\n",
            "Epoch 7/50\n",
            "1562/1562 [==============================] - 27s 17ms/step - loss: 0.2872 - accuracy: 0.9034 - val_loss: 0.4113 - val_accuracy: 0.8675\n",
            "Epoch 8/50\n",
            "1562/1562 [==============================] - 27s 18ms/step - loss: 0.2737 - accuracy: 0.9086 - val_loss: 0.4229 - val_accuracy: 0.8727\n",
            "Epoch 9/50\n",
            "1562/1562 [==============================] - 27s 17ms/step - loss: 0.2601 - accuracy: 0.9124 - val_loss: 0.3926 - val_accuracy: 0.8733\n",
            "Epoch 10/50\n",
            "1562/1562 [==============================] - 27s 17ms/step - loss: 0.2576 - accuracy: 0.9132 - val_loss: 0.3819 - val_accuracy: 0.8771\n",
            "Epoch 11/50\n",
            "1562/1562 [==============================] - 27s 18ms/step - loss: 0.2451 - accuracy: 0.9172 - val_loss: 0.4189 - val_accuracy: 0.8765\n",
            "Epoch 12/50\n",
            "1562/1562 [==============================] - 27s 17ms/step - loss: 0.2379 - accuracy: 0.9189 - val_loss: 0.4093 - val_accuracy: 0.8809\n",
            "Epoch 13/50\n",
            "1562/1562 [==============================] - 27s 18ms/step - loss: 0.2329 - accuracy: 0.9221 - val_loss: 0.4132 - val_accuracy: 0.8703\n",
            "Epoch 14/50\n",
            "1562/1562 [==============================] - 27s 18ms/step - loss: 0.2244 - accuracy: 0.9236 - val_loss: 0.4612 - val_accuracy: 0.8666\n",
            "Epoch 15/50\n",
            "1562/1562 [==============================] - 27s 17ms/step - loss: 0.2193 - accuracy: 0.9266 - val_loss: 0.3822 - val_accuracy: 0.8837\n",
            "Epoch 16/50\n",
            "1562/1562 [==============================] - 28s 18ms/step - loss: 0.2153 - accuracy: 0.9281 - val_loss: 0.4268 - val_accuracy: 0.8717\n",
            "Epoch 17/50\n",
            "1562/1562 [==============================] - 27s 18ms/step - loss: 0.2122 - accuracy: 0.9270 - val_loss: 0.3826 - val_accuracy: 0.8802\n",
            "Epoch 18/50\n",
            "1562/1562 [==============================] - 27s 17ms/step - loss: 0.2007 - accuracy: 0.9320 - val_loss: 0.3757 - val_accuracy: 0.8855\n",
            "Epoch 19/50\n",
            "1562/1562 [==============================] - 28s 18ms/step - loss: 0.1986 - accuracy: 0.9329 - val_loss: 0.3931 - val_accuracy: 0.8810\n",
            "Epoch 20/50\n",
            "1562/1562 [==============================] - 28s 18ms/step - loss: 0.1963 - accuracy: 0.9332 - val_loss: 0.4117 - val_accuracy: 0.8842\n",
            "Epoch 21/50\n",
            "1562/1562 [==============================] - 27s 18ms/step - loss: 0.1907 - accuracy: 0.9351 - val_loss: 0.3619 - val_accuracy: 0.8864\n",
            "Epoch 22/50\n",
            "1562/1562 [==============================] - 28s 18ms/step - loss: 0.1927 - accuracy: 0.9359 - val_loss: 0.4042 - val_accuracy: 0.8819\n",
            "Epoch 23/50\n",
            "1562/1562 [==============================] - 28s 18ms/step - loss: 0.1826 - accuracy: 0.9383 - val_loss: 0.4046 - val_accuracy: 0.8868\n",
            "Epoch 24/50\n",
            "1562/1562 [==============================] - 27s 18ms/step - loss: 0.1807 - accuracy: 0.9386 - val_loss: 0.4127 - val_accuracy: 0.8851\n",
            "Epoch 25/50\n",
            "1562/1562 [==============================] - 27s 18ms/step - loss: 0.1744 - accuracy: 0.9407 - val_loss: 0.3983 - val_accuracy: 0.8818\n",
            "Epoch 26/50\n",
            "1562/1562 [==============================] - 28s 18ms/step - loss: 0.1773 - accuracy: 0.9395 - val_loss: 0.4004 - val_accuracy: 0.8822\n",
            "Epoch 27/50\n",
            "1562/1562 [==============================] - 28s 18ms/step - loss: 0.1730 - accuracy: 0.9418 - val_loss: 0.3824 - val_accuracy: 0.8795\n",
            "Epoch 28/50\n",
            "1562/1562 [==============================] - 28s 18ms/step - loss: 0.1720 - accuracy: 0.9423 - val_loss: 0.3861 - val_accuracy: 0.8858\n",
            "Epoch 29/50\n",
            "1562/1562 [==============================] - 28s 18ms/step - loss: 0.1652 - accuracy: 0.9443 - val_loss: 0.4019 - val_accuracy: 0.8805\n",
            "Epoch 30/50\n",
            "1562/1562 [==============================] - 28s 18ms/step - loss: 0.1648 - accuracy: 0.9451 - val_loss: 0.3780 - val_accuracy: 0.8896\n",
            "Epoch 31/50\n",
            "1562/1562 [==============================] - 28s 18ms/step - loss: 0.1636 - accuracy: 0.9445 - val_loss: 0.3973 - val_accuracy: 0.8900\n",
            "Epoch 32/50\n",
            "1562/1562 [==============================] - 28s 18ms/step - loss: 0.1623 - accuracy: 0.9454 - val_loss: 0.4105 - val_accuracy: 0.8837\n",
            "Epoch 33/50\n",
            "1562/1562 [==============================] - 28s 18ms/step - loss: 0.1553 - accuracy: 0.9469 - val_loss: 0.4224 - val_accuracy: 0.8854\n",
            "Epoch 34/50\n",
            "1562/1562 [==============================] - 28s 18ms/step - loss: 0.1517 - accuracy: 0.9485 - val_loss: 0.3805 - val_accuracy: 0.8905\n",
            "Epoch 35/50\n",
            "1562/1562 [==============================] - 28s 18ms/step - loss: 0.1575 - accuracy: 0.9479 - val_loss: 0.3846 - val_accuracy: 0.8952\n",
            "Epoch 36/50\n",
            "1562/1562 [==============================] - 28s 18ms/step - loss: 0.1486 - accuracy: 0.9499 - val_loss: 0.3869 - val_accuracy: 0.8941\n",
            "Epoch 37/50\n",
            "1562/1562 [==============================] - 28s 18ms/step - loss: 0.1428 - accuracy: 0.9527 - val_loss: 0.3999 - val_accuracy: 0.8905\n",
            "Epoch 38/50\n",
            "1562/1562 [==============================] - 28s 18ms/step - loss: 0.1435 - accuracy: 0.9513 - val_loss: 0.3835 - val_accuracy: 0.8940\n",
            "Epoch 39/50\n",
            "1562/1562 [==============================] - 28s 18ms/step - loss: 0.1440 - accuracy: 0.9517 - val_loss: 0.4203 - val_accuracy: 0.8928\n",
            "Epoch 40/50\n",
            "1562/1562 [==============================] - 28s 18ms/step - loss: 0.1448 - accuracy: 0.9512 - val_loss: 0.4068 - val_accuracy: 0.8871\n",
            "Epoch 41/50\n",
            "1562/1562 [==============================] - 28s 18ms/step - loss: 0.1398 - accuracy: 0.9539 - val_loss: 0.4782 - val_accuracy: 0.8863\n",
            "Epoch 42/50\n",
            "1562/1562 [==============================] - 28s 18ms/step - loss: 0.1458 - accuracy: 0.9514 - val_loss: 0.4014 - val_accuracy: 0.8877\n",
            "Epoch 43/50\n",
            "1562/1562 [==============================] - 28s 18ms/step - loss: 0.1379 - accuracy: 0.9544 - val_loss: 0.4086 - val_accuracy: 0.8929\n",
            "Epoch 44/50\n",
            "1562/1562 [==============================] - 28s 18ms/step - loss: 0.1381 - accuracy: 0.9534 - val_loss: 0.3971 - val_accuracy: 0.8917\n",
            "Epoch 45/50\n",
            "1562/1562 [==============================] - 28s 18ms/step - loss: 0.1334 - accuracy: 0.9554 - val_loss: 0.3983 - val_accuracy: 0.8927\n",
            "Epoch 46/50\n",
            "1562/1562 [==============================] - 28s 18ms/step - loss: 0.1374 - accuracy: 0.9542 - val_loss: 0.3857 - val_accuracy: 0.8920\n",
            "Epoch 47/50\n",
            "1562/1562 [==============================] - 28s 18ms/step - loss: 0.1264 - accuracy: 0.9575 - val_loss: 0.4252 - val_accuracy: 0.8920\n",
            "Epoch 48/50\n",
            "1562/1562 [==============================] - 28s 18ms/step - loss: 0.1367 - accuracy: 0.9548 - val_loss: 0.4454 - val_accuracy: 0.8862\n",
            "Epoch 49/50\n",
            "1562/1562 [==============================] - 28s 18ms/step - loss: 0.1280 - accuracy: 0.9570 - val_loss: 0.3882 - val_accuracy: 0.8973\n",
            "Epoch 50/50\n",
            "1562/1562 [==============================] - 28s 18ms/step - loss: 0.1267 - accuracy: 0.9573 - val_loss: 0.4487 - val_accuracy: 0.8876\n"
          ],
          "name": "stdout"
        }
      ]
    },
    {
      "cell_type": "code",
      "metadata": {
        "id": "YBDOZ2lAXGbU",
        "colab": {
          "base_uri": "https://localhost:8080/",
          "height": 282
        },
        "outputId": "619e9398-7226-4cd5-a551-3a2f4559dc96"
      },
      "source": [
        "#plot loss per iteration\n",
        "import matplotlib.pyplot as plt\n",
        "plt.plot(r.history['loss'], label='loss')\n",
        "plt.plot(r.history['val_loss'], label='val_loss')\n",
        "plt.legend()"
      ],
      "execution_count": 8,
      "outputs": [
        {
          "output_type": "execute_result",
          "data": {
            "text/plain": [
              "<matplotlib.legend.Legend at 0x7efc1bf8c240>"
            ]
          },
          "metadata": {
            "tags": []
          },
          "execution_count": 8
        },
        {
          "output_type": "display_data",
          "data": {
            "image/png": "[encoded data removed]",
            "text/plain": [
              "<Figure size 432x288 with 1 Axes>"
            ]
          },
          "metadata": {
            "tags": [],
            "needs_background": "light"
          }
        }
      ]
    },
    {
      "cell_type": "code",
      "metadata": {
        "id": "4_7ciBAsY4zH",
        "colab": {
          "base_uri": "https://localhost:8080/",
          "height": 282
        },
        "outputId": "85f04df0-59c3-493d-e278-db150e8a6e59"
      },
      "source": [
        "plt.plot(r.history['accuracy'], label='accuracy')\n",
        "plt.plot(r.history['val_accuracy'], label='val_accuracy')\n",
        "plt.legend()"
      ],
      "execution_count": 9,
      "outputs": [
        {
          "output_type": "execute_result",
          "data": {
            "text/plain": [
              "<matplotlib.legend.Legend at 0x7efc1bf5be80>"
            ]
          },
          "metadata": {
            "tags": []
          },
          "execution_count": 9
        },
        {
          "output_type": "display_data",
          "data": {
            "image/png": "[encoded data removed]",
            "text/plain": [
              "<Figure size 432x288 with 1 Axes>"
            ]
          },
          "metadata": {
            "tags": [],
            "needs_background": "light"
          }
        }
      ]
    },
    {
      "cell_type": "code",
      "metadata": {
        "id": "aZV1qn0XZBiW",
        "colab": {
          "base_uri": "https://localhost:8080/",
          "height": 496
        },
        "outputId": "dbca728f-789f-4270-e733-2c5cea9122e3"
      },
      "source": [
        "#Plot Confusion Matrix:\n",
        "\n",
        "from sklearn.metrics import confusion_matrix\n",
        "import numpy as np\n",
        "import itertools\n",
        "\n",
        "def plot_confusion_matrix(cm ,classes,\n",
        "                          normalize = False,\n",
        "                          title = 'Confusion Matrix',\n",
        "                          cmap=plt.cm.Blues):\n",
        "\n",
        "  if normalize:\n",
        "    cm =cm.astype('float') / cm.sum(axis=1)[:,np.newaxis]\n",
        "    print(\"Normalize Confusion Matrix\")\n",
        "  else:\n",
        "    print(\"Confusion Matrix without normalization\")\n",
        "\n",
        "  print(cm)\n",
        "\n",
        "  plt.imshow(cm, interpolation='nearest', cmap=cmap)\n",
        "  plt.title(title)\n",
        "  plt.colorbar()\n",
        "  tick_marks = np.arange(len(classes))\n",
        "  plt.xticks(tick_marks, classes, rotation=45)\n",
        "  plt.yticks(tick_marks, classes)\n",
        "\n",
        "\n",
        "  fmt='.2f' if normalize else 'd'\n",
        "  thresh = cm.max() / 2.\n",
        "  for i , j in itertools.product(range(cm.shape[0]), range(cm.shape[1])):\n",
        "    plt.text(j, i, format(cm[i,j], fmt),\n",
        "            horizontalalignment=\"center\",\n",
        "            color = \"white\" if cm[i, j] > thresh else \"black\")\n",
        "\n",
        "  plt.tight_layout()\n",
        "  plt.ylabel('True Label')\n",
        "  plt.xlabel('Predicted label')\n",
        "  plt.show()\n",
        "\n",
        "\n",
        "p_test = model.predict(x_test).argmax(axis=1)\n",
        "cm = confusion_matrix(y_test, p_test)\n",
        "plot_confusion_matrix(cm, list(range(10)))"
      ],
      "execution_count": 10,
      "outputs": [
        {
          "output_type": "stream",
          "text": [
            "Confusion Matrix without normalization\n",
            "[[915   4  13   3   7   1   3   1  34  19]\n",
            " [  6 945   0   1   0   1   0   0   7  40]\n",
            " [ 43   1 823  21  24  30  32  16   3   7]\n",
            " [ 17   5  32 744  19  97  40  14  15  17]\n",
            " [ 18   1  36  21 828  19  34  34   5   4]\n",
            " [ 15   3  15  63  18 849  12  19   2   4]\n",
            " [  6   3   7  17   3   7 947   1   7   2]\n",
            " [  7   0   5  13  16  25   4 921   1   8]\n",
            " [ 26   6   2   2   0   2   0   0 950  12]\n",
            " [  7  21   0   3   1   1   0   0  13 954]]\n"
          ],
          "name": "stdout"
        },
        {
          "output_type": "display_data",
          "data": {
            "image/png": "[encoded data removed]",
            "text/plain": [
              "<Figure size 432x288 with 2 Axes>"
            ]
          },
          "metadata": {
            "tags": [],
            "needs_background": "light"
          }
        }
      ]
    },
    {
      "cell_type": "code",
      "metadata": {
        "id": "47wX9vCsZ4DN"
      },
      "source": [
        "# Label Mapping:\n",
        "\n",
        "labels = '''airplane\n",
        "automobile\n",
        "bird\n",
        "cat\n",
        "deer\n",
        "dog\n",
        "frog\n",
        "horse\n",
        "ship\n",
        "truck'''.split()"
      ],
      "execution_count": 11,
      "outputs": []
    },
    {
      "cell_type": "code",
      "metadata": {
        "id": "LDbvErXRZVHz",
        "colab": {
          "base_uri": "https://localhost:8080/",
          "height": 281
        },
        "outputId": "d2f0b5ac-1281-41fc-8de9-e7f053218daa"
      },
      "source": [
        "# Show some misclassified examples\n",
        "\n",
        "misclassified_idx = np.where(p_test != y_test)[0]\n",
        "i = np.random.choice(misclassified_idx)\n",
        "plt.imshow(x_test[i], cmap='gray')\n",
        "plt.title(\"True Label: %s Predicted: %s\" % (labels[y_test[i]], labels[p_test[i]]));"
      ],
      "execution_count": 12,
      "outputs": [
        {
          "output_type": "display_data",
          "data": {
            "image/png": "[encoded data removed]",
            "text/plain": [
              "<Figure size 432x288 with 1 Axes>"
            ]
          },
          "metadata": {
            "tags": [],
            "needs_background": "light"
          }
        }
      ]
    },
    {
      "cell_type": "code",
      "metadata": {
        "id": "jA5or0efZbub",
        "colab": {
          "base_uri": "https://localhost:8080/"
        },
        "outputId": "9679c181-31e5-4e7e-c7f0-248b52b94a34"
      },
      "source": [
        "# Now the model is so large, it's useful to summarize it\n",
        "model.summary()"
      ],
      "execution_count": 13,
      "outputs": [
        {
          "output_type": "stream",
          "text": [
            "Model: \"model\"\n",
            "_________________________________________________________________\n",
            "Layer (type)                 Output Shape              Param #   \n",
            "=================================================================\n",
            "input_1 (InputLayer)         [(None, 32, 32, 3)]       0         \n",
            "_________________________________________________________________\n",
            "conv2d (Conv2D)              (None, 32, 32, 32)        896       \n",
            "_________________________________________________________________\n",
            "batch_normalization (BatchNo (None, 32, 32, 32)        128       \n",
            "_________________________________________________________________\n",
            "conv2d_1 (Conv2D)            (None, 32, 32, 64)        18496     \n",
            "_________________________________________________________________\n",
            "batch_normalization_1 (Batch (None, 32, 32, 64)        256       \n",
            "_________________________________________________________________\n",
            "max_pooling2d (MaxPooling2D) (None, 16, 16, 64)        0         \n",
            "_________________________________________________________________\n",
            "conv2d_2 (Conv2D)            (None, 16, 16, 128)       73856     \n",
            "_________________________________________________________________\n",
            "batch_normalization_2 (Batch (None, 16, 16, 128)       512       \n",
            "_________________________________________________________________\n",
            "conv2d_3 (Conv2D)            (None, 16, 16, 128)       147584    \n",
            "_________________________________________________________________\n",
            "batch_normalization_3 (Batch (None, 16, 16, 128)       512       \n",
            "_________________________________________________________________\n",
            "max_pooling2d_1 (MaxPooling2 (None, 8, 8, 128)         0         \n",
            "_________________________________________________________________\n",
            "conv2d_4 (Conv2D)            (None, 8, 8, 128)         147584    \n",
            "_________________________________________________________________\n",
            "batch_normalization_4 (Batch (None, 8, 8, 128)         512       \n",
            "_________________________________________________________________\n",
            "conv2d_5 (Conv2D)            (None, 8, 8, 128)         147584    \n",
            "_________________________________________________________________\n",
            "batch_normalization_5 (Batch (None, 8, 8, 128)         512       \n",
            "_________________________________________________________________\n",
            "max_pooling2d_2 (MaxPooling2 (None, 4, 4, 128)         0         \n",
            "_________________________________________________________________\n",
            "flatten (Flatten)            (None, 2048)              0         \n",
            "_________________________________________________________________\n",
            "dropout (Dropout)            (None, 2048)              0         \n",
            "_________________________________________________________________\n",
            "dense (Dense)                (None, 1024)              2098176   \n",
            "_________________________________________________________________\n",
            "dropout_1 (Dropout)          (None, 1024)              0         \n",
            "_________________________________________________________________\n",
            "dense_1 (Dense)              (None, 10)                10250     \n",
            "=================================================================\n",
            "Total params: 2,646,858\n",
            "Trainable params: 2,645,642\n",
            "Non-trainable params: 1,216\n",
            "_________________________________________________________________\n"
          ],
          "name": "stdout"
        }
      ]
    },
    {
      "cell_type": "code",
      "metadata": {
        "id": "8L26FkdBpI2s"
      },
      "source": [
        ""
      ],
      "execution_count": 13,
      "outputs": []
    },
    {
      "cell_type": "markdown",
      "metadata": {
        "id": "ntCUicjlvAVF"
      },
      "source": [
        "# Saving the Model:\r\n"
      ]
    },
    {
      "cell_type": "code",
      "metadata": {
        "id": "99ocuEfvvDs0"
      },
      "source": [
        "model.save('cifar_improved.h5')"
      ],
      "execution_count": 18,
      "outputs": []
    },
    {
      "cell_type": "code",
      "metadata": {
        "colab": {
          "base_uri": "https://localhost:8080/"
        },
        "id": "9B2ntHUsizM4",
        "outputId": "15199d67-3a53-4298-e52a-367631e94533"
      },
      "source": [
        "#Check that the model file exists\r\n",
        "\r\n",
        "!ls -lh"
      ],
      "execution_count": 19,
      "outputs": [
        {
          "output_type": "stream",
          "text": [
            "total 61M\n",
            "-rw-r--r-- 1 root root  31M Jan 24 18:31 cifar_imporoved.h5\n",
            "-rw-r--r-- 1 root root  31M Jan 24 18:32 cifar_improved.h5\n",
            "drwxr-xr-x 1 root root 4.0K Jan 20 17:27 sample_data\n"
          ],
          "name": "stdout"
        }
      ]
    },
    {
      "cell_type": "code",
      "metadata": {
        "colab": {
          "base_uri": "https://localhost:8080/"
        },
        "id": "DsCVjZrZiz0c",
        "outputId": "e35e2d62-5651-478d-953b-5c7d34ef96d4"
      },
      "source": [
        "# Lets Load the model and confirm that it still works\r\n",
        "\r\n",
        "model = tf.keras.models.load_model('cifar_improved.h5')\r\n",
        "print(model.layers)\r\n"
      ],
      "execution_count": 20,
      "outputs": [
        {
          "output_type": "stream",
          "text": [
            "[<tensorflow.python.keras.engine.input_layer.InputLayer object at 0x7efbc52bed68>, <tensorflow.python.keras.layers.convolutional.Conv2D object at 0x7efbc52ca6d8>, <tensorflow.python.keras.layers.normalization_v2.BatchNormalization object at 0x7efbc52cabe0>, <tensorflow.python.keras.layers.convolutional.Conv2D object at 0x7efbc52cb128>, <tensorflow.python.keras.layers.normalization_v2.BatchNormalization object at 0x7efbc52cb710>, <tensorflow.python.keras.layers.pooling.MaxPooling2D object at 0x7efbc52cbba8>, <tensorflow.python.keras.layers.convolutional.Conv2D object at 0x7efbc52cbeb8>, <tensorflow.python.keras.layers.normalization_v2.BatchNormalization object at 0x7efbc525c4e0>, <tensorflow.python.keras.layers.convolutional.Conv2D object at 0x7efbc525c978>, <tensorflow.python.keras.layers.normalization_v2.BatchNormalization object at 0x7efbc525cf60>, <tensorflow.python.keras.layers.pooling.MaxPooling2D object at 0x7efbc525f438>, <tensorflow.python.keras.layers.convolutional.Conv2D object at 0x7efbc525f748>, <tensorflow.python.keras.layers.normalization_v2.BatchNormalization object at 0x7efbc525fd30>, <tensorflow.python.keras.layers.convolutional.Conv2D object at 0x7efbc5264208>, <tensorflow.python.keras.layers.normalization_v2.BatchNormalization object at 0x7efbc52647f0>, <tensorflow.python.keras.layers.pooling.MaxPooling2D object at 0x7efbc5264c88>, <tensorflow.python.keras.layers.core.Flatten object at 0x7efbc5264f60>, <tensorflow.python.keras.layers.core.Dropout object at 0x7efbc5269198>, <tensorflow.python.keras.layers.core.Dense object at 0x7efbc5269358>, <tensorflow.python.keras.layers.core.Dropout object at 0x7efbc52696d8>, <tensorflow.python.keras.layers.core.Dense object at 0x7efbc5269898>]\n"
          ],
          "name": "stdout"
        }
      ]
    },
    {
      "cell_type": "code",
      "metadata": {
        "colab": {
          "base_uri": "https://localhost:8080/"
        },
        "id": "bNTb0wIyjiF6",
        "outputId": "2672bf53-5c88-4274-ad9f-d111de2d9d96"
      },
      "source": [
        "model.summary()"
      ],
      "execution_count": 21,
      "outputs": [
        {
          "output_type": "stream",
          "text": [
            "Model: \"model\"\n",
            "_________________________________________________________________\n",
            "Layer (type)                 Output Shape              Param #   \n",
            "=================================================================\n",
            "input_1 (InputLayer)         [(None, 32, 32, 3)]       0         \n",
            "_________________________________________________________________\n",
            "conv2d (Conv2D)              (None, 32, 32, 32)        896       \n",
            "_________________________________________________________________\n",
            "batch_normalization (BatchNo (None, 32, 32, 32)        128       \n",
            "_________________________________________________________________\n",
            "conv2d_1 (Conv2D)            (None, 32, 32, 64)        18496     \n",
            "_________________________________________________________________\n",
            "batch_normalization_1 (Batch (None, 32, 32, 64)        256       \n",
            "_________________________________________________________________\n",
            "max_pooling2d (MaxPooling2D) (None, 16, 16, 64)        0         \n",
            "_________________________________________________________________\n",
            "conv2d_2 (Conv2D)            (None, 16, 16, 128)       73856     \n",
            "_________________________________________________________________\n",
            "batch_normalization_2 (Batch (None, 16, 16, 128)       512       \n",
            "_________________________________________________________________\n",
            "conv2d_3 (Conv2D)            (None, 16, 16, 128)       147584    \n",
            "_________________________________________________________________\n",
            "batch_normalization_3 (Batch (None, 16, 16, 128)       512       \n",
            "_________________________________________________________________\n",
            "max_pooling2d_1 (MaxPooling2 (None, 8, 8, 128)         0         \n",
            "_________________________________________________________________\n",
            "conv2d_4 (Conv2D)            (None, 8, 8, 128)         147584    \n",
            "_________________________________________________________________\n",
            "batch_normalization_4 (Batch (None, 8, 8, 128)         512       \n",
            "_________________________________________________________________\n",
            "conv2d_5 (Conv2D)            (None, 8, 8, 128)         147584    \n",
            "_________________________________________________________________\n",
            "batch_normalization_5 (Batch (None, 8, 8, 128)         512       \n",
            "_________________________________________________________________\n",
            "max_pooling2d_2 (MaxPooling2 (None, 4, 4, 128)         0         \n",
            "_________________________________________________________________\n",
            "flatten (Flatten)            (None, 2048)              0         \n",
            "_________________________________________________________________\n",
            "dropout (Dropout)            (None, 2048)              0         \n",
            "_________________________________________________________________\n",
            "dense (Dense)                (None, 1024)              2098176   \n",
            "_________________________________________________________________\n",
            "dropout_1 (Dropout)          (None, 1024)              0         \n",
            "_________________________________________________________________\n",
            "dense_1 (Dense)              (None, 10)                10250     \n",
            "=================================================================\n",
            "Total params: 2,646,858\n",
            "Trainable params: 2,645,642\n",
            "Non-trainable params: 1,216\n",
            "_________________________________________________________________\n"
          ],
          "name": "stdout"
        }
      ]
    },
    {
      "cell_type": "code",
      "metadata": {
        "id": "jhiGs45FqyS4"
      },
      "source": [
        ""
      ],
      "execution_count": null,
      "outputs": []
    }
  ]
}